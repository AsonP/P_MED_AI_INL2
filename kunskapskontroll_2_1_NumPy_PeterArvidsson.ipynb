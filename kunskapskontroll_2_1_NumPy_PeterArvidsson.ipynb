{
 "cells": [
  {
   "cell_type": "markdown",
   "id": "dacf74e6",
   "metadata": {},
   "source": [
    "# NumPy"
   ]
  },
  {
   "cell_type": "markdown",
   "id": "01b2bf34",
   "metadata": {},
   "source": [
    "Read the links: https://numpy.org/doc/stable/user/quickstart.html  and https://numpy.org/doc/stable/user/basics.broadcasting.html  before solving the exercises. "
   ]
  },
  {
   "cell_type": "code",
   "execution_count": null,
   "id": "1f79e4a6",
   "metadata": {},
   "outputs": [],
   "source": [
    "import numpy as np"
   ]
  },
  {
   "cell_type": "markdown",
   "id": "7dae6889",
   "metadata": {},
   "source": [
    "### Print out the dimension (number of axes), shape, size and the datatype of the matrix A."
   ]
  },
  {
   "cell_type": "markdown",
   "id": "63af7ef3-782f-46f8-a8f1-f3246e97f00d",
   "metadata": {},
   "source": [
    "# Ursprungskod - Matris A\n",
    "\"A = np.arange(1, 16).reshape(3,5)\"\n"
   ]
  },
  {
   "cell_type": "code",
   "execution_count": null,
   "id": "9f2a80bc-3ae7-4ed9-ab65-5763c8bdcd28",
   "metadata": {},
   "outputs": [],
   "source": [
    "import numpy as np\n",
    "A = np.arange(1, 16).reshape(3,5)\n",
    "print(\"Dimension (antal axlar):\", A.ndim) #two axes. Ax one rows Ax two kolumns.   \n",
    "print(\"Form:\", A.shape) #three rows, five colums  \n",
    "print(\"Storlek:\", A.size) \n",
    "print(\"Data typ:\", A.dtype)"
   ]
  },
  {
   "cell_type": "code",
   "execution_count": null,
   "id": "8bfa0efe-3b94-4e4e-84e6-183c9471414d",
   "metadata": {},
   "outputs": [],
   "source": []
  },
  {
   "cell_type": "markdown",
   "id": "e56d2a96",
   "metadata": {},
   "source": [
    "### Do the following computations on the matrices B and C: \n",
    "* Elementwise subtraction. \n",
    "* Elementwise multiplication. \n",
    "* Matrix multiplication (by default you should use the @ operator)."
   ]
  },
  {
   "cell_type": "markdown",
   "id": "17b33f6b-5330-4fcf-a05a-4f9f7b8f18f9",
   "metadata": {},
   "source": [
    "# Ursprungskod - Matris B och C \n",
    "\"B = np.arange(1, 10).reshape(3, 3)\"\n",
    "\"C = np.ones((3, 3))*2\"\n",
    "\"print(B)\"\n",
    "\"print()\"\n",
    "\"print(C)\""
   ]
  },
  {
   "cell_type": "code",
   "execution_count": null,
   "id": "a7053fbb",
   "metadata": {},
   "outputs": [],
   "source": [
    "import numpy as np\n",
    "B = np.arange(1, 10).reshape(3, 3)\n",
    "C = np.ones((3, 3))*2\n",
    "\n",
    "print(\"Matris B:\")\n",
    "print(B)\n",
    "print()\n",
    "\n",
    "print(\"Matris C:\")\n",
    "print(C)\n",
    "print()\n",
    "\n",
    "elementwise_subtraction = B - C\n",
    "print(\"Elementvis Subtraktion:\") \n",
    "print(elementwise_subtraction) \n",
    "print()\n",
    "\n",
    "elementwise_multiplication = B * C\n",
    "print(\"Elementvis Multiplikation:\") \n",
    "print(elementwise_multiplication)\n",
    "print()\n",
    "\n",
    "matrix_multiplication = B @ C \n",
    "print(\"Matris Multiplikation:\") \n",
    "print(matrix_multiplication)\n",
    "print()\n"
   ]
  },
  {
   "cell_type": "code",
   "execution_count": null,
   "id": "3cd794ae",
   "metadata": {},
   "outputs": [],
   "source": []
  },
  {
   "cell_type": "markdown",
   "id": "96030d53",
   "metadata": {},
   "source": [
    "### Do the following calculations on the matrix:\n",
    "* Exponentiate each number elementwise (use the np.exp function).\n",
    "\n",
    "* Calculate the minimum value in the whole matrix. \n",
    "* Calculcate the minimum value in each row. \n",
    "* Calculcate the minimum value in each column. \n",
    "\n",
    "\n",
    "* Find the index value for the minimum value in the whole matrix (hint: use np.argmin).\n",
    "* Find the index value for the minimum value in each row (hint: use np.argmin).\n",
    "\n",
    "\n",
    "* Calculate the sum for all elements.\n",
    "* Calculate the mean for each column. \n",
    "* Calculate the median for each column. "
   ]
  },
  {
   "cell_type": "markdown",
   "id": "53a16d0a-0e03-48d4-8fee-5421df2036be",
   "metadata": {},
   "source": [
    "# Ursprungskod - Calculations\n",
    "\"B = np.arange(1, 10).reshape(3, 3)\"\n",
    "\"print(B)\""
   ]
  },
  {
   "cell_type": "code",
   "execution_count": null,
   "id": "f8a9166b",
   "metadata": {},
   "outputs": [],
   "source": [
    "import numpy as np \n",
    "B = np.arange(1, 10).reshape(3, 3) \n",
    "print(\"Matris B:\")\n",
    "print(B)\n",
    "print()\n",
    "\n",
    "exp_B = np.exp(B) \n",
    "print(\"\\nExponentiera B:\") \n",
    "print(exp_B) \n",
    "print()\n",
    "\n",
    "min_value = np.min(B) \n",
    "print(\"\\nMinimivärde i hela matrisen:\") \n",
    "print(min_value) \n",
    "print()\n",
    "\n",
    "min_value_rows = np.min(B, axis=1) \n",
    "print(\"\\nMinimivärde för varje rad:\") \n",
    "print(min_value_rows)\n",
    "print()\n",
    "\n",
    "min_value_columns = np.min(B, axis=0) \n",
    "print(\"\\nMinimivärde för varje kolumn:\") \n",
    "print(min_value_columns)\n",
    "print()\n",
    "\n",
    "index_min_value = np.argmin(B) \n",
    "print(\"\\nIndex för lägsta värde i hela tabellen:\") \n",
    "print(index_min_value)\n",
    "print()\n",
    "\n",
    "index_min_value_rows = np.argmin(B, axis=1) \n",
    "print(\"\\nIndex för lägsta värde för varje rad\") \n",
    "print(index_min_value_rows)\n",
    "print()\n",
    "\n",
    "sum_all_elements = np.sum(B) \n",
    "print(\"\\nSumma för alla element:\") \n",
    "print(sum_all_elements)\n",
    "print()\n",
    "\n",
    "mean_columns = np.mean(B, axis=0) \n",
    "print(\"\\nMedelvärde för varje kolumn:\") \n",
    "print(mean_columns)\n",
    "print()\n",
    "\n",
    "median_columns = np.median(B, axis=0) \n",
    "print(\"\\nMedianvärde för varje kolumn:\") \n",
    "print(median_columns)\n",
    "print()"
   ]
  },
  {
   "cell_type": "code",
   "execution_count": null,
   "id": "f03f24f7",
   "metadata": {},
   "outputs": [],
   "source": []
  },
  {
   "cell_type": "markdown",
   "id": "541eb7ba",
   "metadata": {},
   "source": [
    "### What does it mean when you provide fewer indices than axes when slicing? See example below."
   ]
  },
  {
   "cell_type": "code",
   "execution_count": null,
   "id": "9c8abf56",
   "metadata": {},
   "outputs": [],
   "source": [
    "print(A)"
   ]
  },
  {
   "cell_type": "code",
   "execution_count": null,
   "id": "69415f7b",
   "metadata": {},
   "outputs": [],
   "source": [
    "A[1]"
   ]
  },
  {
   "cell_type": "markdown",
   "id": "6c53541b",
   "metadata": {},
   "source": [
    "**Answer:**"
   ]
  },
  {
   "cell_type": "code",
   "execution_count": null,
   "id": "de01e120",
   "metadata": {},
   "outputs": [],
   "source": [
    "print(A) kommer att skriva ut hela matrisen. \n",
    "A[1] kommer att selektera utskriften och bara skriva raden (hela raden) för den rad som har index 1."
   ]
  },
  {
   "cell_type": "markdown",
   "id": "6652d0c9",
   "metadata": {},
   "source": [
    "### Iterating over multidimensional arrays is done with respect to the first axis, so in the example below we iterate trough the rows. If you would like to iterate through the array *elementwise*, how would you do that?"
   ]
  },
  {
   "cell_type": "markdown",
   "id": "450daa89-1d0a-4d51-b136-dd751f73d4e3",
   "metadata": {},
   "source": [
    "# Ursprungskod - Iteration elementvis\n",
    "\"A\"\n",
    "\"for i in A:\" \"radvis iteration\"\n",
    "    print(i)\""
   ]
  },
  {
   "cell_type": "code",
   "execution_count": null,
   "id": "9459864f",
   "metadata": {},
   "outputs": [],
   "source": [
    "import numpy as np\n",
    "\n",
    "# Matris A\n",
    "\"A = np.arange(1, 16).reshape(3,5)\"\n",
    "\n",
    "# Matris A (Två rader tre kolumner)\n",
    "A = np.array([[1, 2, 3], [4, 5, 6]])\n",
    "\n",
    "# Iterera elementvis\n",
    "for element in A.flat:\n",
    "    print(element)"
   ]
  },
  {
   "cell_type": "markdown",
   "id": "118deca1-8bf8-4c6f-a642-acba077d80ea",
   "metadata": {},
   "source": []
  },
  {
   "cell_type": "markdown",
   "id": "608a2583",
   "metadata": {},
   "source": [
    "### Explain what the code below does. More specifically, b has three axes - what does this mean? "
   ]
  },
  {
   "cell_type": "markdown",
   "id": "e2c202f8-380d-4979-96fe-eade467f13f1",
   "metadata": {},
   "source": [
    "# Ursprungskod\n",
    "\"a = np.arange(30\"\n",
    "\"b = a.reshape((2, 3, -1))\"\n",
    "\"print(a)\"\n",
    "print()\n",
    "\"print(b)\""
   ]
  },
  {
   "cell_type": "code",
   "execution_count": null,
   "id": "f8f9b26f",
   "metadata": {},
   "outputs": [],
   "source": [
    "a = np.arange(30)\n",
    "b = a.reshape((2, 3, -1)) #\"2 block, 3 rader, 30 /(2 × 3)\"\n",
    "print(a)\n",
    "print()\n",
    "\n",
    "print(b)"
   ]
  },
  {
   "cell_type": "markdown",
   "id": "3c2fa689-dbdf-4814-8a0a-b6017f560577",
   "metadata": {},
   "source": [
    "# Svar:\n",
    "1. Den skriver först ut en 1D array med 30 tal (a).\n",
    "2. Den skriver sedan ut en array med två block. \n",
    "3. -1 talar om för NumPy att härleda dimensionen baserat på antalet element, dvs 30/(2 × 3) = 5\n",
    "   (2, 3, 5)"
   ]
  },
  {
   "cell_type": "code",
   "execution_count": null,
   "id": "eed38bbb-dd20-4d23-837f-679aa3d3a067",
   "metadata": {},
   "outputs": [],
   "source": []
  },
  {
   "cell_type": "markdown",
   "id": "421c9607-819a-401d-949a-97424436fe29",
   "metadata": {},
   "source": [
    "# For the exercises below, read the document *\"matematik_yh_antonio_vektorer_matriser_utdrag\"*\n",
    "# Solutions to the exercises and recorded videos can be found here: https://github.com/AntonioPrgomet/matematik_foer_yh\n",
    "\n",
    "# If you find the exercises below very hard, do not worry. Try your best, that will be enough. "
   ]
  },
  {
   "cell_type": "markdown",
   "id": "ab5933d5",
   "metadata": {},
   "source": [
    "### Broadcasting\n",
    "**Read the following link about broadcasting: https://numpy.org/doc/stable/user/basics.broadcasting.html#basics-broadcasting**"
   ]
  },
  {
   "cell_type": "markdown",
   "id": "039805ba",
   "metadata": {},
   "source": [
    "# Remark on Broadcasting when doing Linear Algebra calculations in Python. "
   ]
  },
  {
   "cell_type": "markdown",
   "id": "c4bcc147",
   "metadata": {},
   "source": [
    "### From the mathematical rules of matrix addition, the operation below (m1 + m2) does not make sense. The reason is that matrix addition requires two matrices of the same size. In Python however, it works due to broadcasting rules in NumPy. So you must be careful when doing Linear Algebra calculations in Python since they do not follow the \"mathematical rules\". This can however easily be handled by doing some simple programming, for example validating that two matrices have the same shape is easy if you for instance want to add two matrices. "
   ]
  },
  {
   "cell_type": "markdown",
   "id": "2e2d844e-d926-4563-8b38-efbcb5033d20",
   "metadata": {},
   "source": [
    "# Ursprungskod - Broadkasting\n",
    "\"m1 = np.array([[1, 2], [3, 4]])\"\n",
    "\"m2 = np.array([1, 1])\"\n",
    "\"print(m1 + m2)\""
   ]
  },
  {
   "cell_type": "code",
   "execution_count": null,
   "id": "1fd46778",
   "metadata": {},
   "outputs": [],
   "source": [
    "import numpy as np\n",
    "\n",
    "m1 = np.array([[1, 2], [3, 4]])  # 2x2-array\n",
    "m2 = np.array([1, 1])  # 1x2-array (en rad med två element)\n",
    "print(m1 + m2)\n",
    "\n"
   ]
  },
  {
   "cell_type": "markdown",
   "id": "d1343ecc-b69b-466d-b328-696466a5aea8",
   "metadata": {},
   "source": [
    "Svar: Broadkasting metoden innebär att de mindre dimensionerna sträcks ut [[1+1, 2+1], [3+1, 4+1]] \n",
    "\n",
    "dvs [[2, 3], [4, 5]]"
   ]
  },
  {
   "cell_type": "markdown",
   "id": "047d6576",
   "metadata": {},
   "source": [
    "### The example below would also not be allowed if following the \"mathematical rules\" in Linear Algebra. But it works due to broadcasting in NumPy. "
   ]
  },
  {
   "cell_type": "markdown",
   "id": "81e07866-61cb-453c-8e58-68e59f2e8a62",
   "metadata": {},
   "source": [
    "# Ursprungskod - Linjär algebra\n",
    "\"v1 = np.array([1, 2, 3])\"\n",
    "\"print(v1 + 1)\""
   ]
  },
  {
   "cell_type": "code",
   "execution_count": null,
   "id": "5e6ef2e4",
   "metadata": {},
   "outputs": [],
   "source": [
    "v1 = np.array([1, 2, 3]) #En dimesionell array\n",
    "print(v1 + 1)\n",
    "\n",
    "\n",
    "\n"
   ]
  },
  {
   "cell_type": "markdown",
   "id": "815e29ab-bf4d-43a1-ad0f-171c664dbbba",
   "metadata": {},
   "source": [
    "Svar: [1+1, 2+1, 3+1]\n",
    "dvs [2, 3, 4]"
   ]
  },
  {
   "cell_type": "code",
   "execution_count": null,
   "id": "0831a381-2ee0-41eb-ace2-a2a4a738701f",
   "metadata": {},
   "outputs": [],
   "source": []
  },
  {
   "cell_type": "markdown",
   "id": "e01f2f54-8cc6-4594-8301-8a0d714ecff6",
   "metadata": {},
   "source": [
    "# Ursprungskod - Linjär algebra\n",
    "\"A = np.arange(1, 5).reshape(2,2)\"\n",
    "\"print(A)\"\n",
    "\n",
    "\"b = np.array([2, 2])\"\n",
    "\"print(b)\""
   ]
  },
  {
   "cell_type": "code",
   "execution_count": null,
   "id": "673ba1c3-33c8-4fa2-a06d-76f36d135293",
   "metadata": {},
   "outputs": [],
   "source": [
    "A = np.arange(1, 5).reshape(2,2) #Skapar en matris som är 2*2. [[1, 2] [3, 4]]\n",
    "print(A)\n",
    "print()\n",
    "b = np.array([2, 2]) #Endimisionell array med två element.  \n",
    "print(b)"
   ]
  },
  {
   "cell_type": "code",
   "execution_count": null,
   "id": "e2cbae26",
   "metadata": {},
   "outputs": [],
   "source": [
    "Svar:\n",
    "Matris A 2*2\n",
    "[[1, 2] \n",
    " [3, 4]]\n",
    "\n",
    "b=[2 2]\n"
   ]
  },
  {
   "cell_type": "markdown",
   "id": "722fd5cd",
   "metadata": {},
   "source": [
    "# Vector- and matrix algebra Exercises"
   ]
  },
  {
   "cell_type": "markdown",
   "id": "b63a3081-d976-4d9f-bfd0-a63917e79f7d",
   "metadata": {},
   "source": [
    "**Now you are going to create a function that can be reused every time you add or multiply matrices. The function is created so that we do the addition and multiplication according to the rules of vector- and matrix algebra.**\n",
    "\n",
    "**Create a function \"add_mult_matrices\" that takes two matrices as input arguments (validate that the input are of the type numpy.ndarray by using the isinstance function), a third argument that is either 'add' or 'multiply' that specifies if you want to add or multiply the matrices (validate that the third argument is either 'add' or 'multiply'). When doing matrix addition, validate that the matrices have the same size. When doing matrix multiplication, validate that the sizes conform (i.e. number of columns in the first matrix is equal to the number of rows in the second matrix).**"
   ]
  },
  {
   "cell_type": "code",
   "execution_count": null,
   "id": "3506f977-ac0a-473f-85bc-eec9f35dc498",
   "metadata": {},
   "outputs": [],
   "source": []
  },
  {
   "cell_type": "markdown",
   "id": "8dad82d0-2359-4dff-8f5b-a57d3e34103c",
   "metadata": {},
   "source": [
    "## Solve all the exercises in chapter 10.1 in the book \"Matematik för yrkeshögskolan\".\n",
    "\n"
   ]
  },
  {
   "cell_type": "markdown",
   "id": "aee2a3f4-2e2e-4273-a873-4b1930afcd89",
   "metadata": {},
   "source": [
    "# Uppgift 10.1.1"
   ]
  },
  {
   "cell_type": "markdown",
   "id": "da61d5b6-74df-44a3-8965-d43a415adf0f",
   "metadata": {},
   "source": [
    "Uppgift 10.1.1\n",
    "\n",
    "x=(4,3) # En rad två kolumner \n",
    "\n",
    "a) Vilken dimension har vektorn x?\n",
    "Svar: Vektorn  x = (4, 3) har dimension 2.\n",
    "\n",
    "b) Beräkn 5x \n",
    "Svar: (5*4, 5*3) = (20,15)\n",
    "\n",
    "c) Beräkna 3x\n",
    "Svar:3x=3(4,3)=(12,9)\n",
    "\n",
    "d) Beräkna 5x+3x\n",
    "Svar: 5x+3x=(20,15)+(12,9)=(32,24)\n",
    "\n",
    "e) Beräkna 8x \n",
    "Svar: 8x=8(4,3)=(32,24)\n",
    "\n",
    "f) Beräkna 4x−x\n",
    "Svar: 4x-x=(16, 12)-(4, 3) = (12, 9)\n",
    "\n",
    "g) Beräkna x⊤  Vilken blir den nya dimensionen efter att transponeringen utförts?\n",
    "Svar: Den nya dimensionen är 2*1 (2 rader och 1 kolumn). (1 rad två kolumner, kolumnvektor)\n",
    "\n",
    "h) Är x+x⊤ definierat? \n",
    "Svar: Nej\n",
    "\n",
    "i) Beräkna ∥x∥\n",
    "Svar:(4*4 + 3*3) = roten ur 25 = 5 \n"
   ]
  },
  {
   "cell_type": "markdown",
   "id": "cdb1f9e8-2fda-4636-b017-19b198dc9c33",
   "metadata": {},
   "source": [
    "# Uppgift 10.1.2"
   ]
  },
  {
   "cell_type": "markdown",
   "id": "3b889418-4737-4abf-9acc-32d33d20776a",
   "metadata": {},
   "source": [
    "Uppgift 10.1.2\n",
    "\n",
    "a) Vilken dimension har vektornv?\n",
    "Svar: 4x1, kolumnvektor\n",
    "\n",
    "b) Beräkna 2v. v= (3,7,0,11)\n",
    "Svar: kolumnvektor 2v=(6,14,0,22)\n",
    "\n",
    "c) Beräkna 5v + 2v \n",
    "Svar: kolumnvektor (21,49,0,77)\n",
    "\n",
    "d) Beräkna 4v − 2v.\n",
    "Svar: kolumnvektor (6,14,0,22)\n",
    "\n",
    "e) Beräkna v⊤, vilken blir den nya dimensionen efter att\n",
    " transponeringen utförts? \n",
    " Svar: radvektor (3,7,0,11) Dimension = (1, 4)\n",
    "\n",
    "f) Beräkna ∥v∥ (Vi tar kvadratroten av summan av kvadraterna av vektorelementen, v= (3,7,0,11))\n",
    "Svar: Roten ur 179 = ca 13.38\n"
   ]
  },
  {
   "cell_type": "markdown",
   "id": "2bfe3f01-bff1-4151-a334-24c6c2141a09",
   "metadata": {},
   "source": [
    "# Uppgift 10.1.3"
   ]
  },
  {
   "cell_type": "markdown",
   "id": "0a93c340-57e2-4f2b-aea0-f4396a671159",
   "metadata": {},
   "source": [
    "Uppgift 10.1.3\n",
    "Define vector v1 = (4,3,1,5) and v2 = (2,3,1,1).\n",
    "\n",
    "a) Calculate ∥v1∥.\n",
    "Svar: Roten ur 51 = ca 7.14\n",
    "\n",
    "b) Calculate ∥v1 − v2∥\n",
    "Svar:Roten ut 20 = cirka 4.47\n",
    "\n",
    "-----------------------------------------\n",
    "\n",
    "import numpy as np\n",
    "\n",
    "v1 = np.array([4, 3, 1, 5])\n",
    "v2 = np.array([2, 3, 1, 1])\n",
    "\n",
    "difference = v1 - v2\n",
    "norm_difference = np.linalg.norm(difference)\n",
    "\n",
    "print(\"Difference (v1 - v2):\", difference)\n",
    "print(\"Norm of the difference (∥v1 - v2∥):\", norm_difference)\n"
   ]
  },
  {
   "cell_type": "markdown",
   "id": "defd643a-c004-422e-99bb-63faccd1e949",
   "metadata": {},
   "source": [
    "\n"
   ]
  },
  {
   "cell_type": "markdown",
   "id": "75c98984-1f88-4df1-b850-d2466de444a5",
   "metadata": {},
   "source": [
    "### Solve all the exercises, except 10.2.4, in chapter 10.2 in the book \"Matematik för yrkeshögskolan\". "
   ]
  },
  {
   "cell_type": "markdown",
   "id": "6ebf0788-1a85-4d0f-907f-584f55720576",
   "metadata": {},
   "source": [
    " # Uppgift 10.2.1."
   ]
  },
  {
   "cell_type": "markdown",
   "id": "d1ea6b0d-8609-466d-826a-f4e191f891a0",
   "metadata": {},
   "source": [
    " Uppgift 10.2.1\n",
    "\n",
    "Rowmatrix\n",
    "A = np.array([[2, 1, -1], [1, -1, 1]])\n",
    "B = np.array([[4, -2, 1], [2, -4, -2]])\n",
    "C = np.array([[1, 2], [2,1]])\n",
    "D = np.array([[3, 4], [4,3]])\n",
    "I = np.array([[1, 0], [0,1]])\n",
    "\n",
    "Columnmatrix\n",
    "E = np.array([[1, 2]])\n",
    "\n",
    " (a) 2A\n",
    " (b) B −2A\n",
    " (c) 3C −2E\n",
    " (d) 2D −3C\n",
    " (e) D⊤ +2D\n",
    " (f) 2C⊤ −2D⊤\n",
    " (g) A⊤ −B\n",
    " (h) AC\n",
    " (i) CD\n",
    " (j) CB\n",
    " (k) CI\n",
    " (l) AB"
   ]
  },
  {
   "cell_type": "code",
   "execution_count": 2,
   "id": "6536396d-7fdc-417b-87c4-e779cc3b3a68",
   "metadata": {},
   "outputs": [
    {
     "name": "stdout",
     "output_type": "stream",
     "text": [
      "[[ 4  2 -2]\n",
      " [ 2 -2  2]]\n"
     ]
    }
   ],
   "source": [
    "#Answer:a\n",
    "import numpy as np\n",
    "\n",
    "A = np.array([[2, 1, -1], [1, -1, 1]])\n",
    "result = 2 * A\n",
    "print(result)\n"
   ]
  },
  {
   "cell_type": "code",
   "execution_count": 4,
   "id": "6d3b1457-822d-453b-8aca-c9c08183c7b7",
   "metadata": {},
   "outputs": [
    {
     "name": "stdout",
     "output_type": "stream",
     "text": [
      "[[ 0 -4  3]\n",
      " [ 0 -2 -4]]\n"
     ]
    }
   ],
   "source": [
    "#Answer:b\n",
    "\n",
    "import numpy as np\n",
    "\n",
    "A = np.array([[2, 1, -1], [1, -1, 1]])\n",
    "B = np.array([[4, -2, 1], [2, -4, -2]])\n",
    "\n",
    "result = B - 2 * A\n",
    "print(result)\n",
    "\n"
   ]
  },
  {
   "cell_type": "code",
   "execution_count": 8,
   "id": "5881eea5-1208-4680-a15a-6efbb1c5ef1e",
   "metadata": {},
   "outputs": [
    {
     "name": "stdout",
     "output_type": "stream",
     "text": [
      "[[ 1  2]\n",
      " [ 4 -1]]\n"
     ]
    }
   ],
   "source": [
    "#Answer:c\n",
    "\n",
    "import numpy as np\n",
    "\n",
    "C = np.array([[1, 2], [2, 1]])\n",
    "E = np.array([[1, 2]])\n",
    "\n",
    "# Multiplicera matriserna\n",
    "result = 3 * C - 2 * E\n",
    "print(result)\n",
    "\n",
    "\n"
   ]
  },
  {
   "cell_type": "code",
   "execution_count": 10,
   "id": "bd7d3085-d88e-4a67-be81-bab0abf6ef66",
   "metadata": {},
   "outputs": [
    {
     "name": "stdout",
     "output_type": "stream",
     "text": [
      "[[3 2]\n",
      " [2 3]]\n"
     ]
    }
   ],
   "source": [
    "#Answer: d\n",
    "\n",
    "import numpy as np\n",
    "\n",
    "C = np.array([[1, 2], [2, 1]])\n",
    "D = np.array([[3, 4], [4, 3]])\n",
    "\n",
    "result = 2 * D - 3 * C\n",
    "print(result)\n"
   ]
  },
  {
   "cell_type": "code",
   "execution_count": 12,
   "id": "5ef3e95d-634d-404d-88d9-bb06d77c75f0",
   "metadata": {},
   "outputs": [
    {
     "name": "stdout",
     "output_type": "stream",
     "text": [
      "[[ 9 12]\n",
      " [12  9]]\n"
     ]
    }
   ],
   "source": [
    "#Answer:e\n",
    "\n",
    "import numpy as np\n",
    "\n",
    "D = np.array([[3, 4], [4, 3]])\n",
    "\n",
    "# Transponera matris D\n",
    "D_transpose = D.T\n",
    "\n",
    "# Beräkna D⊤ + 2D\n",
    "result = D_transpose + 2 * D\n",
    "print(result)\n",
    "\n"
   ]
  },
  {
   "cell_type": "code",
   "execution_count": 14,
   "id": "05fcb103-b7b2-46e1-a3d3-1b6a9262fa5b",
   "metadata": {},
   "outputs": [
    {
     "name": "stdout",
     "output_type": "stream",
     "text": [
      "[[-4 -4]\n",
      " [-4 -4]]\n"
     ]
    }
   ],
   "source": [
    "#Anser:f\n",
    "\n",
    "import numpy as np\n",
    "\n",
    "C = np.array([[1, 2], [2, 1]])\n",
    "D = np.array([[3, 4], [4, 3]])\n",
    "\n",
    "# Transponera matriserna\n",
    "C_transpose = C.T\n",
    "D_transpose = D.T\n",
    "\n",
    "# Beräkna 2C⊤ - 2D⊤\n",
    "result = 2 * C_transpose - 2 * D_transpose\n",
    "print(result)\n",
    "\n"
   ]
  },
  {
   "cell_type": "code",
   "execution_count": 16,
   "id": "6aa43111-256d-407e-9fb2-2b6067905ef1",
   "metadata": {},
   "outputs": [
    {
     "name": "stdout",
     "output_type": "stream",
     "text": [
      "A^T:\n",
      "[[ 2  1]\n",
      " [ 1 -1]\n",
      " [-1  1]]\n",
      "\n",
      "B:\n",
      "[[ 4 -2  1]\n",
      " [ 2 -4 -2]]\n",
      "Error: operands could not be broadcast together with shapes (3,2) (2,3) \n"
     ]
    }
   ],
   "source": [
    "#Ansver:g\n",
    "# Går ej olika dimensioner matchar ej\n",
    "\n",
    "import numpy as np\n",
    "\n",
    "A = np.array([[2, 1, -1], [1, -1, 1]])\n",
    "B = np.array([[4, -2, 1], [2, -4, -2]])\n",
    "\n",
    "# Transponera matris A\n",
    "A_transpose = A.T\n",
    "\n",
    "# Skriv ut transponerad A och B\n",
    "print(\"A^T:\")\n",
    "print(A_transpose)\n",
    "print(\"\\nB:\")\n",
    "print(B)\n",
    "\n",
    "# Försök till direkt subtraktion (kommer inte att fungera p.g.a. olika dimensioner)\n",
    "try:\n",
    "    result = A_transpose - B\n",
    "    print(\"\\nA^T - B:\")\n",
    "    print(result)\n",
    "except ValueError as e:\n",
    "    print(f\"Error: {e}\")\n"
   ]
  },
  {
   "cell_type": "code",
   "execution_count": null,
   "id": "ec8fce61-2e8d-4124-bd74-2c1b2427a416",
   "metadata": {},
   "outputs": [],
   "source": [
    "#Answer:h\n",
    "#Dimensionerna matchar ej för multiplikation.\n",
    "\n",
    "#import numpy as np\n",
    "#A = np.array([[2, 1, -1], [1, -1, 1]])\n",
    "#C = np.array([[1, 2], [2,1]])\n",
    "#print(A*C)\n",
    "\n"
   ]
  },
  {
   "cell_type": "code",
   "execution_count": 18,
   "id": "f104354f-0ba8-40a1-abe7-27102186e914",
   "metadata": {},
   "outputs": [
    {
     "name": "stdout",
     "output_type": "stream",
     "text": [
      "[[11 10]\n",
      " [10 11]]\n"
     ]
    }
   ],
   "source": [
    "#Answer:i \n",
    "\n",
    "import numpy as np\n",
    "\n",
    "C = np.array([[1, 2], [2, 1]])\n",
    "D = np.array([[3, 4], [4, 3]])\n",
    "\n",
    "# Beräkna matrisprodukten CD\n",
    "result = np.dot(C, D)\n",
    "print(result)\n",
    "\n",
    "\n"
   ]
  },
  {
   "cell_type": "code",
   "execution_count": 20,
   "id": "8f424be4-83a0-4455-83ee-6d7ae195278d",
   "metadata": {},
   "outputs": [
    {
     "name": "stdout",
     "output_type": "stream",
     "text": [
      "[[  8 -10  -3]\n",
      " [ 10  -8   0]]\n"
     ]
    }
   ],
   "source": [
    "#Answer:j\n",
    "\n",
    "import numpy as np\n",
    "\n",
    "C = np.array([[1, 2], [2, 1]])\n",
    "B = np.array([[4, -2, 1], [2, -4, -2]])\n",
    "\n",
    "# Beräkna matrisprodukten CB\n",
    "result = np.dot(C, B)\n",
    "print(result)\n",
    "\n"
   ]
  },
  {
   "cell_type": "code",
   "execution_count": 22,
   "id": "bf338579-df16-4a75-8ac6-9758746e9bb9",
   "metadata": {},
   "outputs": [
    {
     "name": "stdout",
     "output_type": "stream",
     "text": [
      "[[1 2]\n",
      " [2 1]]\n"
     ]
    }
   ],
   "source": [
    "#Anwer:k\n",
    "\n",
    "import numpy as np\n",
    "\n",
    "C = np.array([[1, 2], [2, 1]])\n",
    "I = np.array([[1, 0], [0, 1]])\n",
    "\n",
    "# Beräkna matrisprodukten CI\n",
    "result = np.dot(C, I)\n",
    "print(result)\n",
    "\n",
    "\n"
   ]
  },
  {
   "cell_type": "markdown",
   "id": "dc43a9ab-67c1-4e79-a48f-d9baae3f77ae",
   "metadata": {},
   "source": [
    "#Answer:i \n",
    "\n",
    "A = np.array([[2, 1, -1], [1, -1, 1]]) \n",
    "B = np.array([[4, -2, 1], [2, -4, -2]])\n",
    "\n",
    "Matrisprodukter kräver att dimensionerna är kompatibla \n",
    "för att beräkningen ska vara möjlig.\n"
   ]
  },
  {
   "cell_type": "markdown",
   "id": "843252dc-974e-4fe0-ae78-39bc188b124d",
   "metadata": {},
   "source": [
    "# Anteckningar Uppgift 10.2.1\n",
    "\n",
    "import numpy as np\n",
    "\n",
    "# Definiera radmatris\n",
    "Detta är en radmatris med en rad och två kolumner.\n",
    "Matematisk presentation B=(1, 2)\n",
    "\n",
    "B_row = np.array([[1, 2]])\n",
    "print(\"Radmatris (1x2):\")\n",
    "print(B_row)\n",
    "print(\"Shape:\", B_row.shape)\n",
    "\n",
    "\n",
    "# Definiera kolumnmatris\n",
    "En kolumnmatris har alltid en enda kolumn. \n",
    "Med andra ord består en kolumnmatris av flera rader men endast en kolumn. Varje element i matrisen ligger i sin egna rad.\n",
    "Exemplet är en kolumnmatris med två rader och en kolumn.\n",
    "Matematisk presentation B=(1/2)\n",
    "\n",
    "B_col = np.array([[1], \n",
    "                  [2]])\n",
    "\n",
    "print(\"\\nKolumnmatris (2x1):\")\n",
    "print(B_col)\n",
    "print(\"Shape:\", B_col.shape)\n"
   ]
  },
  {
   "cell_type": "code",
   "execution_count": null,
   "id": "1165a255-54e0-4029-98d5-69196317d2f8",
   "metadata": {},
   "outputs": [],
   "source": []
  },
  {
   "cell_type": "markdown",
   "id": "6a4a524f",
   "metadata": {},
   "source": [
    "### Copies and Views\n",
    "Read the following link: https://numpy.org/doc/stable/user/basics.copies.html"
   ]
  },
  {
   "cell_type": "markdown",
   "id": "6cbbeaf7",
   "metadata": {},
   "source": [
    "**Basic indexing creates a view, How can you check if v1 and v2 is a view or copy? If you change the last element in v2 to 123, will the last element in v1 be changed? Why?**"
   ]
  },
  {
   "cell_type": "markdown",
   "id": "bf9d8f14-6760-4c61-91f6-c3b52b510b3d",
   "metadata": {},
   "source": [
    "#Ursprungskod\n",
    "v1 = np.arange(4)\n",
    "v2 = v1[-2:]\n",
    "print(v1)\n",
    "print(v2)"
   ]
  },
  {
   "cell_type": "code",
   "execution_count": 15,
   "id": "1e9fc407-37cf-4071-876e-853050465d66",
   "metadata": {},
   "outputs": [
    {
     "name": "stdout",
     "output_type": "stream",
     "text": [
      "[0 1 2 3]\n",
      "[2 3]\n"
     ]
    }
   ],
   "source": [
    "#Answer\n",
    "import numpy as np\n",
    "v1 = np.arange(4)\n",
    "v2 = v1[-2:]\n",
    "print(v1)\n",
    "print(v2)"
   ]
  },
  {
   "cell_type": "markdown",
   "id": "d89edf91-7012-47d6-a447-0b2ea69d1c66",
   "metadata": {},
   "source": [
    "#Ursprungskod\n",
    "# The base attribute of a view returns the original array while it returns None for a copy.\n",
    "print(v1.base)\n",
    "print(v2.base)"
   ]
  },
  {
   "cell_type": "code",
   "execution_count": 21,
   "id": "593fe84e-d7ed-4971-97e4-40e1835cf864",
   "metadata": {},
   "outputs": [
    {
     "name": "stdout",
     "output_type": "stream",
     "text": [
      "None\n",
      "[0 1 2 3]\n"
     ]
    }
   ],
   "source": [
    "#Answer\n",
    "import numpy as np\n",
    "# The base attribute of a view returns the original array while it returns None for a copy.\n",
    "v1 = np.arange(4)\n",
    "v2 = v1[-2:]\n",
    "print(v1.base)\n",
    "print(v2.base)"
   ]
  },
  {
   "cell_type": "code",
   "execution_count": null,
   "id": "c8752807",
   "metadata": {},
   "outputs": [],
   "source": [
    "#Ursprungskod\n",
    "# The last element in v1 will be changed aswell since v2 is a view, meaning they share the same data buffer.\n",
    "v2[-1] = 123\n",
    "print(v1)\n",
    "print(v2)"
   ]
  },
  {
   "cell_type": "markdown",
   "id": "1c5e0415-ef4d-409b-b504-3e1de2c32f57",
   "metadata": {},
   "source": [
    "Answer:\n",
    "Understanding Views and Copies in NumPy\n",
    "A view shares the same data buffer as the original array. Changes to the data in the view are reflected in the original array and vice versa.\n",
    "A copy, however, creates a new data buffer. Changes made to the copy do not affect the original array."
   ]
  },
  {
   "cell_type": "markdown",
   "id": "eaab1b27-f932-4a30-92c7-8ea4889e4a40",
   "metadata": {},
   "source": [
    "Answer:\n",
    "The base attribute confirms this: v2.base references v1, showing they share the same memory.\n",
    "When you change a value in v2, the change is reflected in v1 because they share the same data buffer.\n",
    "v2 = v1[-2:]"
   ]
  },
  {
   "cell_type": "code",
   "execution_count": 24,
   "id": "3dd68221",
   "metadata": {},
   "outputs": [
    {
     "name": "stdout",
     "output_type": "stream",
     "text": [
      "None\n",
      "[0 1 2 3]\n",
      "[  0   1   2 123]\n",
      "[  2 123]\n"
     ]
    }
   ],
   "source": [
    "#Answer:\n",
    "import numpy as np\n",
    "\n",
    "v1 = np.arange(4)  # [0, 1, 2, 3]\n",
    "v2 = v1[-2:]       # View of the last two elements: [2, 3]\n",
    "\n",
    "# Check if `v2` is a view or a copy\n",
    "print(v1.base)  # Output: None (original array)\n",
    "print(v2.base)  # Output: <memory of v1> (shows that v2 is a view)\n",
    "\n",
    "# Modify v2 and observe changes in v1\n",
    "v2[-1] = 123     # Modify last element of v2\n",
    "print(v1)        # Output: [0, 1, 2, 123] (v1 reflects the change)\n",
    "print(v2)        # Output: [2, 123]       (v2 reflects the change)"
   ]
  },
  {
   "cell_type": "code",
   "execution_count": null,
   "id": "93884788-01de-4ef1-aaee-4b31352d4e03",
   "metadata": {},
   "outputs": [],
   "source": []
  }
 ],
 "metadata": {
  "kernelspec": {
   "display_name": "Python 3 (ipykernel)",
   "language": "python",
   "name": "python3"
  },
  "language_info": {
   "codemirror_mode": {
    "name": "ipython",
    "version": 3
   },
   "file_extension": ".py",
   "mimetype": "text/x-python",
   "name": "python",
   "nbconvert_exporter": "python",
   "pygments_lexer": "ipython3",
   "version": "3.12.7"
  }
 },
 "nbformat": 4,
 "nbformat_minor": 5
}
